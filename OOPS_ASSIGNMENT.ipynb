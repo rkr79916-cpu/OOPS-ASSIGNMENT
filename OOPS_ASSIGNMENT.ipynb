{
  "nbformat": 4,
  "nbformat_minor": 0,
  "metadata": {
    "colab": {
      "provenance": [],
      "toc_visible": true
    },
    "kernelspec": {
      "name": "python3",
      "display_name": "Python 3"
    },
    "language_info": {
      "name": "python"
    }
  },
  "cells": [
    {
      "cell_type": "markdown",
      "source": [
        "# THEORY QUESTIONS"
      ],
      "metadata": {
        "id": "Teu1iABFJCQi"
      }
    },
    {
      "cell_type": "markdown",
      "source": [
        "**1. What is Object-Oriented Programming (OOP)?**\n",
        "\n",
        "-> Object-Oriented Programming (OOP) is a programming approach based on objects that combine data (attributes) and functions (methods) into a single unit.\n",
        "\n",
        "It helps make code more organized, reusable, and easier to maintain.\n",
        "\n",
        "Example (Python)\n",
        "\n",
        "    class Car:\n",
        "        def __init__(self, brand, color):\n",
        "            self.brand = brand\n",
        "            self.color = color\n",
        "\n",
        "    def drive(self):\n",
        "        print(f\"The {self.color} {self.brand} is driving.\")\n",
        "\n",
        "    my_car = Car(\"Toyota\", \"Red\")\n",
        "    my_car.drive()\n",
        "\n",
        "\n",
        "Output:\n",
        "\n",
        "    The Red Toyota is driving."
      ],
      "metadata": {
        "id": "UT42TJy8Ip0t"
      }
    },
    {
      "cell_type": "markdown",
      "source": [
        "**2. What is a class in OOP?**\n",
        "\n",
        "-> A class in OOP is a blueprint or template for creating objects.\n",
        "It defines the data (attributes) and behavior (methods) that the objects will have.\n",
        "\n",
        "Example (Python)\n",
        "    \n",
        "    class Car:\n",
        "        def __init__(self, brand):\n",
        "            self.brand = brand\n",
        "\n",
        "    def drive(self):\n",
        "        print(f\"{self.brand} is driving.\")"
      ],
      "metadata": {
        "id": "wCWG5LJpIrsJ"
      }
    },
    {
      "cell_type": "markdown",
      "source": [
        "**3. What is an object in OOP?**\n",
        "\n",
        "-> An object in OOP is an instance of a class — it’s a real-world entity created from a class blueprint.\n",
        "\n",
        "Example (Python)\n",
        "\n",
        "    my_car = Car(\"Toyota\")\n",
        "    my_car.drive()"
      ],
      "metadata": {
        "id": "COnmmngyIrot"
      }
    },
    {
      "cell_type": "markdown",
      "source": [
        "**4. What is the difference between abstraction and encapsulation?**\n",
        "\n",
        "-> Abstraction and encapsulation are both fundamental concepts in OOP, but they focus on different aspects. Abstraction is about hiding complex implementation details and showing only the necessary features to the user, allowing them to focus on what an object does rather than how it does it. Encapsulation, on the other hand, is about bundling data and methods into a single class and protecting the internal state of an object from direct access, controlling how it is modified or used. In short, abstraction hides complexity, while encapsulation hides the internal data."
      ],
      "metadata": {
        "id": "I5ndloe5IrmV"
      }
    },
    {
      "cell_type": "markdown",
      "source": [
        "**5. What are dunder methods in Python?**\n",
        "\n",
        "-> Dunder methods (short for “double underscore” methods) are special Python methods with double underscores at the beginning and end, like __init__ or __str__. They let you customize how objects behave with built-in operations and functions.\n",
        "\n",
        "Example\n",
        "\n",
        "    class Point:\n",
        "        def __init__(self, x, y):\n",
        "            self.x = x\n",
        "            self.y = y\n",
        "\n",
        "    def __str__(self):\n",
        "        return f\"Point({self.x}, {self.y})\"\n",
        "\n",
        "    p = Point(2, 3)\n",
        "    print(p)  \n",
        "    \n",
        "Output:\n",
        "    \n",
        "    Point(2, 3)"
      ],
      "metadata": {
        "id": "k5czPKpZIrj0"
      }
    },
    {
      "cell_type": "markdown",
      "source": [
        "**6. Explain the concept of inheritance in OOP.**\n",
        "\n",
        "-> Inheritance in OOP is a mechanism where a class (child/subclass) derives properties and methods from another class (parent/superclass). It allows code reuse and hierarchical relationships between classes.\n",
        "\n",
        "Example (Python)\n",
        "    \n",
        "    class Vehicle:\n",
        "        def move(self):\n",
        "            print(\"Vehicle is moving\")\n",
        "\n",
        "    class Car(Vehicle):\n",
        "        def honk(self):\n",
        "            print(\"Car is honking\")\n",
        "\n",
        "    my_car = Car()\n",
        "    my_car.move()\n",
        "    my_car.honk()  "
      ],
      "metadata": {
        "id": "aa-vQRTfIrhO"
      }
    },
    {
      "cell_type": "markdown",
      "source": [
        "**7. What is polymorphism in OOP?**\n",
        "\n",
        "-> Polymorphism in OOP means “many forms” — it allows objects of different classes to be treated the same way through a common interface, even if they behave differently.\n",
        "\n",
        "Example (Python)\n",
        "    class Dog:\n",
        "        def speak(self):\n",
        "            print(\"Woof!\")\n",
        "\n",
        "    class Cat:\n",
        "        def speak(self):\n",
        "            print(\"Meow!\")\n",
        "\n",
        "    for animal in [Dog(), Cat()]:\n",
        "        animal.speak()\n",
        "\n",
        "\n",
        "Output:\n",
        "\n",
        "    Woof!\n",
        "    Meow!"
      ],
      "metadata": {
        "id": "P9yJ24xvIret"
      }
    },
    {
      "cell_type": "markdown",
      "source": [
        "**8. How is encapsulation achieved in Python?**\n",
        "\n",
        "-> Encapsulation in Python is achieved by wrapping data (attributes) and methods inside a class and restricting direct access to some attributes using private or protected variables.\n",
        "\n",
        "* Public: Accessible from anywhere (variable)\n",
        "\n",
        "* Protected: Suggests internal use (_variable)\n",
        "\n",
        "* Private: Restricts access (__variable)\n",
        "\n",
        "Example\n",
        "\n",
        "    class Car:\n",
        "        def __init__(self, speed):\n",
        "            self.__speed = speed\n",
        "\n",
        "        def set_speed(self, speed):\n",
        "            self.__speed = speed\n",
        "\n",
        "        def get_speed(self):\n",
        "            return self.__speed\n",
        "\n",
        "    my_car = Car(100)\n",
        "    print(my_car.get_speed())"
      ],
      "metadata": {
        "id": "567D5o_2IrcV"
      }
    },
    {
      "cell_type": "markdown",
      "source": [
        "**9. What is a constructor in Python?**\n",
        "\n",
        "-> A constructor in Python is a special method called __init__ that runs automatically when an object is created. It is used to initialize the object’s attributes.\n",
        "\n",
        "Example\n",
        "    class Car:\n",
        "        def __init__(self, brand, color):\n",
        "            self.brand = brand\n",
        "            self.color = color\n",
        "\n",
        "    my_car = Car(\"Toyota\", \"Red\")\n",
        "    print(my_car.brand)  \n",
        "  Output:\n",
        "      \n",
        "      Toyota"
      ],
      "metadata": {
        "id": "Yvlg8ygtIrZt"
      }
    },
    {
      "cell_type": "markdown",
      "source": [
        "**10. What are class and static methods in Python?**\n",
        "\n",
        "-> In Python, class methods and static methods are special types of methods inside a class:\n",
        "\n",
        "1. Class Method (@classmethod)\n",
        "\n",
        "  * Receives the class itself as the first parameter (cls).\n",
        "\n",
        "* Can access or modify class-level attributes, not instance attributes.\n",
        "\n",
        "2. Static Method (@staticmethod)\n",
        "\n",
        "* Does not receive self or cls.\n",
        "\n",
        "* Acts like a regular function but lives inside the class.\n",
        "\n",
        "Example\n",
        "\n",
        "    class MyClass:\n",
        "        count = 0\n",
        "\n",
        "        @classmethod\n",
        "        def increment_count(cls):\n",
        "            cls.count += 1\n",
        "\n",
        "        @staticmethod\n",
        "        def greet():\n",
        "            print(\"Hello!\")\n",
        "\n",
        "    MyClass.increment_count()\n",
        "    print(MyClass.count)  \n",
        "  \n",
        "  Output: 1\n",
        "  \n",
        "    MyClass.greet()       \n",
        "  \n",
        "  Output: Hello!"
      ],
      "metadata": {
        "id": "ZW5HdqKEIrXF"
      }
    },
    {
      "cell_type": "markdown",
      "source": [
        "**11. What is method overloading in Python?**\n",
        "\n",
        "-> Method overloading is the ability to define multiple methods with the same name but different parameters in a class.\n",
        "\n",
        "* Note in Python: Python does not support true method overloading like Java or C++. The last defined method with the same name overwrites the previous ones.\n",
        "You can achieve similar behavior using default arguments or *args/**kwargs.\n",
        "\n",
        "Example\n",
        "\n",
        "    class Math:\n",
        "        def add(self, a, b=0):\n",
        "            return a + b\n",
        "\n",
        "    m = Math()\n",
        "    print(m.add(5))      \n",
        "  Output: 5\n",
        "    \n",
        "    print(m.add(5, 3))   \n",
        "  Output: 8"
      ],
      "metadata": {
        "id": "LPNNMT7ONGRu"
      }
    },
    {
      "cell_type": "markdown",
      "source": [
        "**12. What is method overriding in OOP?**\n",
        "\n",
        "-> Method overriding in OOP occurs when a child class provides its own version of a method that is already defined in the parent class. It allows the child class to change or extend the behavior of the inherited method.\n",
        "\n",
        "Example (Python)\n",
        "    \n",
        "    class Vehicle:\n",
        "        def move(self):\n",
        "            print(\"Vehicle is moving\")\n",
        "\n",
        "    class Car(Vehicle):\n",
        "        def move(self):\n",
        "            print(\"Car is driving\")\n",
        "\n",
        "    my_car = Car()\n",
        "    my_car.move()  \n",
        "  Output: Car is driving"
      ],
      "metadata": {
        "id": "3p1HppVwNGI-"
      }
    },
    {
      "cell_type": "markdown",
      "source": [
        "**13. What is a property decorator in Python?**\n",
        "\n",
        "-> A property decorator (@property) in Python is used to access a method like an attribute, allowing controlled access to private attributes without directly calling a method.\n",
        "\n",
        "Example\n",
        "\n",
        "    class Car:\n",
        "        def __init__(self, speed):\n",
        "            self.__speed = speed\n",
        "\n",
        "        @property\n",
        "        def speed(self):\n",
        "            return self.__speed\n",
        "\n",
        "    my_car = Car(100)\n",
        "    print(my_car.speed)\n",
        "  Output: 100"
      ],
      "metadata": {
        "id": "Nhjp2Q89NF_-"
      }
    },
    {
      "cell_type": "markdown",
      "source": [
        "**14. Why is polymorphism important in OOP?**\n",
        "\n",
        "-> Polymorphism is important in OOP because it allows different objects to be treated through a common interface, making code more flexible, reusable, and easier to maintain.\n",
        "\n",
        "Example\n",
        "\n",
        "    class Dog:\n",
        "        def speak(self):\n",
        "            print(\"Woof!\")\n",
        "\n",
        "    class Cat:\n",
        "        def speak(self):\n",
        "            print(\"Meow!\")\n",
        "\n",
        "    def make_animal_speak(animal):\n",
        "        animal.speak()\n",
        "\n",
        "    make_animal_speak(Dog())  \n",
        "  Woof!\n",
        "  \n",
        "    make_animal_speak(Cat())  \n",
        "  Meow!"
      ],
      "metadata": {
        "id": "FT5G1n9oNF3P"
      }
    },
    {
      "cell_type": "markdown",
      "source": [
        "**15. What is an abstract class in Python?**\n",
        "\n",
        "-> An abstract class in Python is a class that cannot be instantiated and is meant to be inherited by other classes. It can have abstract methods (methods without implementation) that must be overridden in child classes.\n",
        "\n",
        "Example\n",
        "    \n",
        "    from abc import ABC, abstractmethod\n",
        "\n",
        "    class Animal(ABC):\n",
        "        @abstractmethod\n",
        "        def speak(self):\n",
        "            pass\n",
        "\n",
        "    class Dog(Animal):\n",
        "        def speak(self):\n",
        "            print(\"Woof!\")\n",
        "\n",
        "    my_dog = Dog()\n",
        "    my_dog.speak()  \n",
        "  Output: Woof!"
      ],
      "metadata": {
        "id": "98B7-muoNFuh"
      }
    },
    {
      "cell_type": "markdown",
      "source": [
        "**16. What are the advantages of OOP?**\n",
        "\n",
        "-> Advantages of OOP:\n",
        "\n",
        "* Modularity – Code is organized into classes, making it easier to manage.\n",
        "\n",
        "* Reusability – Inheritance allows reuse of existing code.\n",
        "\n",
        "* Maintainability – Encapsulation keeps data safe and reduces errors.\n",
        "\n",
        "* Flexibility – Polymorphism allows the same interface for different objects.\n",
        "\n",
        "* Real-world modeling – Objects represent real-world entities, making design intuitive."
      ],
      "metadata": {
        "id": "q8WUma0LNFlf"
      }
    },
    {
      "cell_type": "markdown",
      "source": [
        "**17. What is the difference between a class variable and an instance variable?**\n",
        "\n",
        "->\n",
        "* Class variable: Shared by all instances of the class. Defined in the class body.\n",
        "\n",
        "* Instance variable: Unique to each object/instance. Defined inside methods, usually __init__.\n",
        "\n",
        "Example:\n",
        "\n",
        "Class variable\n",
        "\n",
        "    class MyClass:\n",
        "        class_var = 0\n",
        "\n",
        "Instance variable\n",
        "\n",
        "    def __init__(self, value):\n",
        "        self.instance_var = value\n",
        "\n",
        "\n",
        "Here, class_var is the same for all objects, while instance_var can differ for each object."
      ],
      "metadata": {
        "id": "TkXHJc-aNFcc"
      }
    },
    {
      "cell_type": "markdown",
      "source": [
        "**18. What is multiple inheritance in Python?**\n",
        "\n",
        "-> Multiple inheritance in Python is when a class inherits from more than one parent class, gaining attributes and methods from all of them.\n",
        "\n",
        "Example:\n",
        "\n",
        "    class A:\n",
        "        def method_a(self):\n",
        "            print(\"A\")\n",
        "\n",
        "    class B:\n",
        "        def method_b(self):\n",
        "            print(\"B\")\n",
        "\n",
        "    class C(A, B):  \n",
        "        pass\n",
        "\n",
        "    obj = C()\n",
        "    obj.method_a()\n",
        "    obj.method_b()\n",
        "\n",
        "\n",
        "Here, C can use methods from both A and B."
      ],
      "metadata": {
        "id": "M2-9KLAdNFTo"
      }
    },
    {
      "cell_type": "markdown",
      "source": [
        "**19. Explain the purpose of ‘’__str__’ and ‘__repr__’ ‘ methods in Python.**\n",
        "\n",
        "->\n",
        "* __str__: Provides a user-friendly string representation of an object (for humans). Used by print() and str().\n",
        "\n",
        "* __repr__: Provides an unambiguous, developer-oriented string representation (for debugging). Ideally, it can be used to recreate the object. Used by repr().\n",
        "\n",
        "Example:\n",
        "\n",
        "    class Person:\n",
        "        def __init__(self, name):\n",
        "            self.name = name\n",
        "    \n",
        "        def __str__(self):\n",
        "            return f\"Person: {self.name}\"\n",
        "    \n",
        "       def __repr__(self):\n",
        "            return f\"Person('{self.name}')\"\n",
        "\n",
        "    p = Person(\"Alice\")\n",
        "    print(p)      \n",
        "    repr(p)        "
      ],
      "metadata": {
        "id": "Jia45hjyNFKK"
      }
    },
    {
      "cell_type": "markdown",
      "source": [
        "**20. What is the significance of the ‘super()’ function in Python?**\n",
        "\n",
        "-> super() is used to call a method from a parent class in a child class, allowing you to reuse or extend inherited behavior without explicitly naming the parent.\n",
        "\n",
        "Example:\n",
        "\n",
        "    class Parent:\n",
        "        def greet(self):\n",
        "            print(\"Hello from Parent\")\n",
        "\n",
        "    class Child(Parent):\n",
        "        def greet(self):\n",
        "            super().greet()  # Calls Parent's greet\n",
        "            print(\"Hello from Child\")\n",
        "\n",
        "    c = Child()\n",
        "    c.greet()\n",
        "\n",
        "\n",
        "Output:\n",
        "\n",
        "Hello from Parent\n",
        "\n",
        "Hello from Child"
      ],
      "metadata": {
        "id": "AWQvps_8NFBK"
      }
    },
    {
      "cell_type": "markdown",
      "source": [
        "**21. What is the significance of the __del__ method in Python?**\n",
        "\n",
        "-> __del__ is a destructor method in Python that is called when an object is about to be destroyed (garbage collected). It’s used to release resources like files or network connections.\n",
        "\n",
        "Example:\n",
        "\n",
        "    class MyClass:\n",
        "        def __del__(self):\n",
        "            print(\"Object is being destroyed\")\n",
        "\n",
        "    obj = MyClass()\n",
        "    del obj  \n",
        "\n",
        "\n",
        "It’s not guaranteed to run immediately when del is called, as actual destruction depends on Python’s garbage collection."
      ],
      "metadata": {
        "id": "mmvjJD-1NE3r"
      }
    },
    {
      "cell_type": "markdown",
      "source": [
        "**22. What is the difference between @staticmethod and @classmethod in Python?**\n",
        "\n",
        "-> @staticmethod:\n",
        "\n",
        "* Does not take self or cls as a parameter.\n",
        "\n",
        "* Belongs to the class namespace but cannot access instance or class variables.\n",
        "\n",
        "@classmethod:\n",
        "\n",
        "* Takes cls as the first parameter.\n",
        "\n",
        "* Can access/modify class variables, but not instance variables.\n",
        "\n",
        "Example:\n",
        "\n",
        "    class MyClass:\n",
        "        count = 0\n",
        "\n",
        "        @staticmethod\n",
        "        def static_method():\n",
        "            print(\"I cannot access class or instance variables\")\n",
        "\n",
        "        @classmethod\n",
        "        def class_method(cls):\n",
        "            cls.count += 1\n",
        "            print(f\"Class count: {cls.count}\")"
      ],
      "metadata": {
        "id": "mYn28qMpNEtr"
      }
    },
    {
      "cell_type": "markdown",
      "source": [
        "**23. How does polymorphism work in Python with inheritance?**\n",
        "\n",
        "-> Polymorphism allows different classes to define methods with the same name, and Python will call the appropriate method based on the object’s actual class, especially in inheritance.\n",
        "\n",
        "Example:\n",
        "\n",
        "    class Animal:\n",
        "        def speak(self):\n",
        "            print(\"Some sound\")\n",
        "\n",
        "    class Dog(Animal):\n",
        "        def speak(self):\n",
        "            print(\"Bark\")\n",
        "\n",
        "    class Cat(Animal):\n",
        "        def speak(self):\n",
        "            print(\"Meow\")\n",
        "\n",
        "    animals = [Dog(), Cat()]\n",
        "    for a in animals:\n",
        "        a.speak()\n",
        "\n",
        "Output:\n",
        "\n",
        "Bark\n",
        "\n",
        "Meow"
      ],
      "metadata": {
        "id": "kX7RDeQYNEjr"
      }
    },
    {
      "cell_type": "markdown",
      "source": [
        "**24. What is method chaining in Python OOP?**\n",
        "\n",
        "-> Method chaining is a technique where multiple methods are called sequentially on the same object in a single line. For this, methods return self.\n",
        "\n",
        "Example:\n",
        "\n",
        "    class MyClass:\n",
        "        def add(self, x):\n",
        "            self.value += x\n",
        "            return self\n",
        "        def multiply(self, y):\n",
        "            self.value *= y\n",
        "            return self\n",
        "\n",
        "    obj = MyClass()\n",
        "    obj.value = 5\n",
        "    obj.add(3).multiply(2)  \n",
        "    print(obj.value)  \n",
        "  Output: 16"
      ],
      "metadata": {
        "id": "A_2912d0NEYA"
      }
    },
    {
      "cell_type": "markdown",
      "source": [
        "**25. What is the purpose of the __call__ method in Python?**\n",
        "\n",
        "-> __call__ allows an object to be called like a function. When you use obj(), Python executes the object’s __call__ method.\n",
        "\n",
        "Example:\n",
        "\n",
        "    class MyClass:\n",
        "        def __call__(self, x):\n",
        "            print(f\"Called with {x}\")\n",
        "\n",
        "    obj = MyClass()\n",
        "    obj(10)  \n",
        "\n",
        "Output:\n",
        "\n",
        "Called with 10\n"
      ],
      "metadata": {
        "id": "fvF8vj50ND0K"
      }
    },
    {
      "cell_type": "markdown",
      "source": [
        "# Practical Questions"
      ],
      "metadata": {
        "id": "Nz2RtzAbTSKc"
      }
    },
    {
      "cell_type": "code",
      "source": [
        "# 1. Create a parent class Animal with a method speak() that prints a generic message. Create a child class Dog that overrides the speak() method to print \"Bark!\".\n",
        "\n",
        "class Animal:\n",
        "    def speak(self):\n",
        "        print(\"This animal makes a sound.\")\n",
        "\n",
        "class Dog(Animal):\n",
        "    def speak(self):\n",
        "        print(\"Bark!\")\n",
        "\n",
        "Animal().speak()\n",
        "Dog().speak()"
      ],
      "metadata": {
        "colab": {
          "base_uri": "https://localhost:8080/"
        },
        "id": "YgnesUlRTW-L",
        "outputId": "c0b87a22-33c4-4afc-cf55-3c050e69dba6"
      },
      "execution_count": 2,
      "outputs": [
        {
          "output_type": "stream",
          "name": "stdout",
          "text": [
            "This animal makes a sound.\n",
            "Bark!\n"
          ]
        }
      ]
    },
    {
      "cell_type": "code",
      "source": [
        "# 2. Write a program to create an abstract class Shape with a method area(). Derive classes Circle and Rectangle from it and implement the area() method in both.\n",
        "\n",
        "from abc import ABC, abstractmethod\n",
        "import math\n",
        "class Shape(ABC):\n",
        "    @abstractmethod\n",
        "    def area(self): pass\n",
        "\n",
        "class Circle(Shape):\n",
        "    def __init__(self, r): self.r = r\n",
        "    def area(self): return math.pi*self.r**2\n",
        "\n",
        "class Rectangle(Shape):\n",
        "    def __init__(self, l,w): self.l,self.w=l,w\n",
        "    def area(self): return self.l*self.w\n",
        "\n",
        "print(Circle(5).area())\n",
        "print(Rectangle(4,6).area())"
      ],
      "metadata": {
        "colab": {
          "base_uri": "https://localhost:8080/"
        },
        "id": "JnBBmgQuTabb",
        "outputId": "1ed6baf5-88d0-444e-ebd3-9fade92a3973"
      },
      "execution_count": 4,
      "outputs": [
        {
          "output_type": "stream",
          "name": "stdout",
          "text": [
            "78.53981633974483\n",
            "24\n"
          ]
        }
      ]
    },
    {
      "cell_type": "code",
      "source": [
        "# 3. Implement a multi-level inheritance scenario where a class Vehicle has an attribute type. Derive a class Car and further derive a class ElectricCar that adds a battery attribute.\n",
        "\n",
        "class Vehicle:\n",
        "    def __init__(self, type): self.type = type\n",
        "\n",
        "class Car(Vehicle): pass\n",
        "\n",
        "class ElectricCar(Car):\n",
        "    def __init__(self, type, battery):\n",
        "        super().__init__(type)\n",
        "        self.battery = battery\n",
        "\n",
        "ecar = ElectricCar(\"Car\", \"100kWh\")\n",
        "print(ecar.type)\n",
        "print(ecar.battery)"
      ],
      "metadata": {
        "colab": {
          "base_uri": "https://localhost:8080/"
        },
        "id": "weLnocJoTaQz",
        "outputId": "eb614717-14a4-496d-b667-58b6e3eb21a4"
      },
      "execution_count": 6,
      "outputs": [
        {
          "output_type": "stream",
          "name": "stdout",
          "text": [
            "Car\n",
            "100kWh\n"
          ]
        }
      ]
    },
    {
      "cell_type": "code",
      "source": [
        "# 4. Demonstrate polymorphism by creating a base class Bird with a method fly(). Create two derived classes Sparrow and Penguin that override the fly() method.\n",
        "\n",
        "class Bird:\n",
        "    def fly(self): print(\"Some birds can fly.\")\n",
        "\n",
        "class Sparrow(Bird):\n",
        "    def fly(self): print(\"Sparrow flies high.\")\n",
        "\n",
        "class Penguin(Bird):\n",
        "    def fly(self): print(\"Penguin cannot fly.\")\n",
        "\n",
        "for b in [Sparrow(), Penguin()]:\n",
        "    b.fly()"
      ],
      "metadata": {
        "colab": {
          "base_uri": "https://localhost:8080/"
        },
        "id": "zd7_3cbOTaHz",
        "outputId": "63eec32a-a78b-46b4-f730-9f2bc833498d"
      },
      "execution_count": 7,
      "outputs": [
        {
          "output_type": "stream",
          "name": "stdout",
          "text": [
            "Sparrow flies high.\n",
            "Penguin cannot fly.\n"
          ]
        }
      ]
    },
    {
      "cell_type": "code",
      "source": [
        "# 5. Write a program to demonstrate encapsulation by creating a class BankAccount with private attributes balance and methods to deposit, withdraw, and check balance.\n",
        "\n",
        "class BankAccount:\n",
        "    def __init__(self, balance=0): self.__balance = balance\n",
        "    def deposit(self, amt): self.__balance += amt\n",
        "    def withdraw(self, amt): self.__balance -= amt\n",
        "    def get_balance(self): return self.__balance\n",
        "\n",
        "acc = BankAccount()\n",
        "acc.deposit(1000)\n",
        "acc.withdraw(200)\n",
        "print(acc.get_balance())"
      ],
      "metadata": {
        "colab": {
          "base_uri": "https://localhost:8080/"
        },
        "id": "taFi2-eJTZ-g",
        "outputId": "e10aa343-5e57-4ec8-eb96-d7dd7f265b68"
      },
      "execution_count": 8,
      "outputs": [
        {
          "output_type": "stream",
          "name": "stdout",
          "text": [
            "800\n"
          ]
        }
      ]
    },
    {
      "cell_type": "code",
      "source": [
        "# 6. Demonstrate runtime polymorphism using a method play() in a base class Instrument. Derive classes Guitar and Piano that implement their own version of play().\n",
        "\n",
        "class Instrument:\n",
        "    def play(self): pass\n",
        "\n",
        "class Guitar(Instrument):\n",
        "    def play(self): print(\"Guitar is playing.\")\n",
        "\n",
        "class Piano(Instrument):\n",
        "    def play(self): print(\"Piano is playing.\")\n",
        "\n",
        "for i in [Guitar(), Piano()]:\n",
        "    i.play()"
      ],
      "metadata": {
        "colab": {
          "base_uri": "https://localhost:8080/"
        },
        "id": "Pxi1zMwSTZ1y",
        "outputId": "0ac2ce2a-6a5e-4d46-f7db-9b7edec49ea9"
      },
      "execution_count": 9,
      "outputs": [
        {
          "output_type": "stream",
          "name": "stdout",
          "text": [
            "Guitar is playing.\n",
            "Piano is playing.\n"
          ]
        }
      ]
    },
    {
      "cell_type": "code",
      "source": [
        "# 7. Create a class MathOperations with a class method add_numbers() to add two numbers and a static method subtract_numbers() to subtract two numbers.\n",
        "\n",
        "class MathOperations:\n",
        "    @classmethod\n",
        "    def add_numbers(cls, a, b): return a + b\n",
        "    @staticmethod\n",
        "    def subtract_numbers(a, b): return a - b\n",
        "\n",
        "print(MathOperations.add_numbers(5,3))\n",
        "print(MathOperations.subtract_numbers(5,3))"
      ],
      "metadata": {
        "colab": {
          "base_uri": "https://localhost:8080/"
        },
        "id": "DH-FdkV0TZsV",
        "outputId": "8832accb-f8a9-4ae3-d796-1c8bf5854141"
      },
      "execution_count": 10,
      "outputs": [
        {
          "output_type": "stream",
          "name": "stdout",
          "text": [
            "8\n",
            "2\n"
          ]
        }
      ]
    },
    {
      "cell_type": "code",
      "source": [
        "# 8. Implement a class Person with a class method to count the total number of persons created.\n",
        "\n",
        "class Person:\n",
        "    count = 0\n",
        "    def __init__(self, name):\n",
        "        self.name = name\n",
        "        Person.count += 1\n",
        "    @classmethod\n",
        "    def total_persons(cls): return cls.count\n",
        "\n",
        "p1 = Person(\"Alice\")\n",
        "p2 = Person(\"Bob\")\n",
        "print(Person.total_persons())"
      ],
      "metadata": {
        "colab": {
          "base_uri": "https://localhost:8080/"
        },
        "id": "G5SQeqt8TZkl",
        "outputId": "5e9b5850-43c5-46b6-c4f5-a1522754ec11"
      },
      "execution_count": 11,
      "outputs": [
        {
          "output_type": "stream",
          "name": "stdout",
          "text": [
            "2\n"
          ]
        }
      ]
    },
    {
      "cell_type": "code",
      "source": [
        "# 9. Write a class Fraction with attributes numerator and denominator. Override the str method to display the fraction as \"numerator/denominator\".\n",
        "\n",
        "class Fraction:\n",
        "    def __init__(self, num, den): self.num,self.den=num,den\n",
        "    def __str__(self): return f\"{self.num}/{self.den}\"\n",
        "\n",
        "f = Fraction(3,4)\n",
        "print(f)"
      ],
      "metadata": {
        "colab": {
          "base_uri": "https://localhost:8080/"
        },
        "id": "K_WBPC-iTZa6",
        "outputId": "8bed108a-edb3-4189-f27a-4127ed473dff"
      },
      "execution_count": 12,
      "outputs": [
        {
          "output_type": "stream",
          "name": "stdout",
          "text": [
            "3/4\n"
          ]
        }
      ]
    },
    {
      "cell_type": "code",
      "source": [
        "# 10. Demonstrate operator overloading by creating a class Vector and overriding the add method to add two vectors.\n",
        "\n",
        "class Vector:\n",
        "    def __init__(self, x, y): self.x, self.y = x, y\n",
        "    def __add__(self, other): return Vector(self.x+other.x, self.y+other.y)\n",
        "    def __str__(self): return f\"({self.x},{self.y})\"\n",
        "\n",
        "v1 = Vector(2,3)\n",
        "v2 = Vector(4,5)\n",
        "print(v1+v2)"
      ],
      "metadata": {
        "colab": {
          "base_uri": "https://localhost:8080/"
        },
        "id": "6gH4sE7kTZRe",
        "outputId": "a8ad18ca-4adf-4a26-a7bc-b8267cd21fd7"
      },
      "execution_count": 13,
      "outputs": [
        {
          "output_type": "stream",
          "name": "stdout",
          "text": [
            "(6,8)\n"
          ]
        }
      ]
    },
    {
      "cell_type": "code",
      "source": [
        "# 11. Create a class Person with attributes name and age. Add a method greet() that prints \"Hello, my name is {name} and I am {age} years old.\"\n",
        "\n",
        "class Person:\n",
        "    def __init__(self, name, age): self.name, self.age = name, age\n",
        "    def greet(self): print(f\"Hello, my name is {self.name} and I am {self.age} years old.\")\n",
        "\n",
        "p = Person(\"Alice\", 25)\n",
        "p.greet()"
      ],
      "metadata": {
        "colab": {
          "base_uri": "https://localhost:8080/"
        },
        "id": "ZApPz3peTZJY",
        "outputId": "95eeb86d-af39-4a04-b5b1-2610dab728b0"
      },
      "execution_count": 17,
      "outputs": [
        {
          "output_type": "stream",
          "name": "stdout",
          "text": [
            "Hello, my name is Alice and I am 25 years old.\n"
          ]
        }
      ]
    },
    {
      "cell_type": "code",
      "source": [
        "# 12. Implement a class Student with attributes name and grades. Create a method average_grade() to compute the average of the grades.\n",
        "\n",
        "class Student:\n",
        "    def __init__(self, name, grades): self.name, self.grades = name, grades\n",
        "    def average_grade(self): return sum(self.grades)/len(self.grades)\n",
        "\n",
        "s = Student(\"Alice\",[80,90,70])\n",
        "print(s.average_grade())"
      ],
      "metadata": {
        "colab": {
          "base_uri": "https://localhost:8080/"
        },
        "id": "gEVugin5TZAq",
        "outputId": "42fd969a-f9ca-4ff6-f10c-9d2c6fb4ffe2"
      },
      "execution_count": 18,
      "outputs": [
        {
          "output_type": "stream",
          "name": "stdout",
          "text": [
            "80.0\n"
          ]
        }
      ]
    },
    {
      "cell_type": "code",
      "source": [
        "# 13. Create a class Rectangle with methods set_dimensions() to set the dimensions and area() to calculate the area.\n",
        "\n",
        "class Rectangle:\n",
        "    def set_dimensions(self, l, w): self.l, self.w = l, w\n",
        "    def area(self): return self.l * self.w\n",
        "\n",
        "r = Rectangle()\n",
        "r.set_dimensions(4,5)\n",
        "print(r.area())"
      ],
      "metadata": {
        "colab": {
          "base_uri": "https://localhost:8080/"
        },
        "id": "hUAZZhvmTY3p",
        "outputId": "5a7e0d2f-11a9-419a-d63f-ddd786653ad2"
      },
      "execution_count": 19,
      "outputs": [
        {
          "output_type": "stream",
          "name": "stdout",
          "text": [
            "20\n"
          ]
        }
      ]
    },
    {
      "cell_type": "code",
      "source": [
        "# 14. Create a class Employee with a method calculate_salary() that computes the salary based on hours worked and hourly rate. Create a derived class Manager that adds a bonus to the salary.\n",
        "\n",
        "class Employee:\n",
        "    def __init__(self, hours, rate): self.hours, self.rate = hours, rate\n",
        "    def calculate_salary(self): return self.hours * self.rate\n",
        "\n",
        "class Manager(Employee):\n",
        "    def __init__(self, hours, rate, bonus):\n",
        "        super().__init__(hours, rate)\n",
        "        self.bonus = bonus\n",
        "    def calculate_salary(self): return super().calculate_salary() + self.bonus\n",
        "\n",
        "m = Manager(40, 20, 500)\n",
        "print(m.calculate_salary())"
      ],
      "metadata": {
        "colab": {
          "base_uri": "https://localhost:8080/"
        },
        "id": "_cOR7kpLTYt6",
        "outputId": "36d0be82-f1ad-4873-9fe3-93e82bb39c4c"
      },
      "execution_count": 20,
      "outputs": [
        {
          "output_type": "stream",
          "name": "stdout",
          "text": [
            "1300\n"
          ]
        }
      ]
    },
    {
      "cell_type": "code",
      "source": [
        "# 15. Create a class Product with attributes name, price, and quantity. Implement a method total_price() that calculates the total price of the product.\n",
        "\n",
        "class Product:\n",
        "    def __init__(self, name, price, qty): self.name,self.price,self.qty=name,price,qty\n",
        "    def total_price(self): return self.price*self.qty\n",
        "\n",
        "p = Product(\"Book\", 100, 3)\n",
        "print(p.total_price())"
      ],
      "metadata": {
        "colab": {
          "base_uri": "https://localhost:8080/"
        },
        "id": "soXwK_6ITYlH",
        "outputId": "673e86ef-1c13-48ec-965d-b2821663b2f8"
      },
      "execution_count": 21,
      "outputs": [
        {
          "output_type": "stream",
          "name": "stdout",
          "text": [
            "300\n"
          ]
        }
      ]
    },
    {
      "cell_type": "code",
      "source": [
        "# 16. Create a class Animal with an abstract method sound(). Create two derived classes Cow and Sheep that implement the sound() method.\n",
        "\n",
        "from abc import ABC, abstractmethod\n",
        "\n",
        "class Animal(ABC):\n",
        "    @abstractmethod\n",
        "    def sound(self): pass\n",
        "\n",
        "class Cow(Animal):\n",
        "    def sound(self): print(\"Moo\")\n",
        "\n",
        "class Sheep(Animal):\n",
        "    def sound(self): print(\"Baa\")\n",
        "\n",
        "Cow().sound()\n",
        "Sheep().sound()"
      ],
      "metadata": {
        "colab": {
          "base_uri": "https://localhost:8080/"
        },
        "id": "ws_BBrihTYbq",
        "outputId": "2b3b3745-d977-4e27-9470-8602b4541ff8"
      },
      "execution_count": 22,
      "outputs": [
        {
          "output_type": "stream",
          "name": "stdout",
          "text": [
            "Moo\n",
            "Baa\n"
          ]
        }
      ]
    },
    {
      "cell_type": "code",
      "source": [
        "# 17. Create a class Book with attributes title, author, and year_published. Add a method get_book_info() that returns a formatted string with the book's details.\n",
        "\n",
        "class Book:\n",
        "    def __init__(self, title, author, year): self.title,self.author,self.year=title,author,year\n",
        "    def get_book_info(self): return f\"{self.title} by {self.author}, {self.year}\"\n",
        "\n",
        "b = Book(\"1984\",\"Orwell\",1949)\n",
        "print(b.get_book_info())"
      ],
      "metadata": {
        "colab": {
          "base_uri": "https://localhost:8080/"
        },
        "id": "RRPj9aXcTYSa",
        "outputId": "2aa9ced8-a50e-4a9d-dfbf-0010672946c2"
      },
      "execution_count": 23,
      "outputs": [
        {
          "output_type": "stream",
          "name": "stdout",
          "text": [
            "1984 by Orwell, 1949\n"
          ]
        }
      ]
    },
    {
      "cell_type": "code",
      "source": [
        "# 18. Create a class House with attributes address and price. Create a derived class Mansion that adds an attribute number_of_rooms.\n",
        "\n",
        "class House:\n",
        "    def __init__(self, address, price): self.address,self.price=address,price\n",
        "\n",
        "class Mansion(House):\n",
        "    def __init__(self, address, price, rooms):\n",
        "        super().__init__(address, price)\n",
        "        self.rooms = rooms\n",
        "\n",
        "m = Mansion(\"123 Street\", 500000, 10)\n",
        "print(m.address, m.price, m.rooms)"
      ],
      "metadata": {
        "colab": {
          "base_uri": "https://localhost:8080/"
        },
        "id": "q-O4IkApTYHS",
        "outputId": "0f1f65d7-4830-48af-a007-a2937673a899"
      },
      "execution_count": 24,
      "outputs": [
        {
          "output_type": "stream",
          "name": "stdout",
          "text": [
            "123 Street 500000 10\n"
          ]
        }
      ]
    }
  ]
}